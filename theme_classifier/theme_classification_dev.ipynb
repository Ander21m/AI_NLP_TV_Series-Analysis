{
 "cells": [
  {
   "cell_type": "code",
   "execution_count": 1,
   "id": "37e2316d",
   "metadata": {},
   "outputs": [
    {
     "name": "stderr",
     "output_type": "stream",
     "text": [
      "c:\\Users\\Hp\\AppData\\Local\\Programs\\Python\\Python311\\Lib\\site-packages\\tqdm\\auto.py:21: TqdmWarning: IProgress not found. Please update jupyter and ipywidgets. See https://ipywidgets.readthedocs.io/en/stable/user_install.html\n",
      "  from .autonotebook import tqdm as notebook_tqdm\n"
     ]
    },
    {
     "name": "stdout",
     "output_type": "stream",
     "text": [
      "WARNING:tensorflow:From c:\\Users\\Hp\\AppData\\Local\\Programs\\Python\\Python311\\Lib\\site-packages\\keras\\src\\losses.py:2976: The name tf.losses.sparse_softmax_cross_entropy is deprecated. Please use tf.compat.v1.losses.sparse_softmax_cross_entropy instead.\n",
      "\n"
     ]
    }
   ],
   "source": [
    "from transformers import pipeline\n",
    "from nltk import sent_tokenize\n",
    "import nltk\n",
    "import torch\n",
    "from glob import glob\n",
    "import pandas as pd\n",
    "import numpy as np"
   ]
  },
  {
   "cell_type": "code",
   "execution_count": 2,
   "id": "3f40eea9",
   "metadata": {},
   "outputs": [
    {
     "name": "stderr",
     "output_type": "stream",
     "text": [
      "[nltk_data] Downloading package punkt to\n",
      "[nltk_data]     C:\\Users\\Hp\\AppData\\Roaming\\nltk_data...\n",
      "[nltk_data]   Package punkt is already up-to-date!\n"
     ]
    },
    {
     "data": {
      "text/plain": [
       "True"
      ]
     },
     "execution_count": 2,
     "metadata": {},
     "output_type": "execute_result"
    }
   ],
   "source": [
    "nltk.download('punkt')"
   ]
  },
  {
   "cell_type": "markdown",
   "id": "13268bbf",
   "metadata": {},
   "source": [
    "#load Model\n"
   ]
  },
  {
   "cell_type": "code",
   "execution_count": 3,
   "id": "6bf43785",
   "metadata": {},
   "outputs": [],
   "source": [
    "model_name = \"facebook/bart-large-mnli\"\n",
    "device = 0 if torch.cuda.is_available() else \"cpu\""
   ]
  },
  {
   "cell_type": "code",
   "execution_count": 4,
   "id": "07c4207d",
   "metadata": {},
   "outputs": [
    {
     "data": {
      "text/plain": [
       "'cpu'"
      ]
     },
     "execution_count": 4,
     "metadata": {},
     "output_type": "execute_result"
    }
   ],
   "source": [
    "device"
   ]
  },
  {
   "cell_type": "code",
   "execution_count": 5,
   "id": "2d7e0e70",
   "metadata": {},
   "outputs": [],
   "source": [
    "def load_model(device):\n",
    "    theme_classifier = pipeline(\n",
    "        \"zero-shot-classification\",\n",
    "        model= model_name,\n",
    "        device = device\n",
    "    )\n",
    "\n",
    "    return theme_classifier"
   ]
  },
  {
   "cell_type": "code",
   "execution_count": null,
   "id": "46fe3f79",
   "metadata": {},
   "outputs": [],
   "source": []
  },
  {
   "cell_type": "code",
   "execution_count": 6,
   "id": "9293b105",
   "metadata": {},
   "outputs": [
    {
     "name": "stderr",
     "output_type": "stream",
     "text": [
      "c:\\Users\\Hp\\AppData\\Local\\Programs\\Python\\Python311\\Lib\\site-packages\\transformers\\tokenization_utils_base.py:1601: FutureWarning: `clean_up_tokenization_spaces` was not set. It will be set to `True` by default. This behavior will be depracted in transformers v4.45, and will be then set to `False` by default. For more details check this issue: https://github.com/huggingface/transformers/issues/31884\n",
      "  warnings.warn(\n"
     ]
    }
   ],
   "source": [
    "theme_classifier = load_model(device)"
   ]
  },
  {
   "cell_type": "code",
   "execution_count": 7,
   "id": "5ce1d8ac",
   "metadata": {},
   "outputs": [],
   "source": [
    "theme_list =[\"friendship\",\"hope\",\"sacrifice\",\"battle\",\"self development\",\"betrayal\",\"love\",\"dialogue\"]"
   ]
  },
  {
   "cell_type": "code",
   "execution_count": 8,
   "id": "5112ac76",
   "metadata": {},
   "outputs": [
    {
     "data": {
      "text/plain": [
       "{'sequence': 'I say good luck to him as he will soon go to the academy for training.',\n",
       " 'labels': ['hope',\n",
       "  'self development',\n",
       "  'dialogue',\n",
       "  'sacrifice',\n",
       "  'friendship',\n",
       "  'love',\n",
       "  'battle',\n",
       "  'betrayal'],\n",
       " 'scores': [0.9718560576438904,\n",
       "  0.9510124921798706,\n",
       "  0.7970066666603088,\n",
       "  0.36778900027275085,\n",
       "  0.02658611536026001,\n",
       "  0.016036812216043472,\n",
       "  0.007592671550810337,\n",
       "  0.0006037309649400413]}"
      ]
     },
     "execution_count": 8,
     "metadata": {},
     "output_type": "execute_result"
    }
   ],
   "source": [
    "theme_classifier(\n",
    "    \"I say good luck to him as he will soon go to the academy for training.\",\n",
    "    theme_list,\n",
    "    multi_label =  True\n",
    ")"
   ]
  },
  {
   "cell_type": "markdown",
   "id": "596e1b20",
   "metadata": {},
   "source": [
    "#Load Dataset"
   ]
  },
  {
   "cell_type": "markdown",
   "id": "499c555c",
   "metadata": {},
   "source": []
  },
  {
   "cell_type": "code",
   "execution_count": 9,
   "id": "cf9b9576",
   "metadata": {},
   "outputs": [],
   "source": [
    "files = glob('../Data/Subtitles/*.ass')"
   ]
  },
  {
   "cell_type": "code",
   "execution_count": 10,
   "id": "98522d47",
   "metadata": {},
   "outputs": [
    {
     "data": {
      "text/plain": [
       "'../Data/Subtitles\\\\Naruto Season 1 - 01.ass'"
      ]
     },
     "execution_count": 10,
     "metadata": {},
     "output_type": "execute_result"
    }
   ],
   "source": [
    "files[0]"
   ]
  },
  {
   "cell_type": "code",
   "execution_count": 11,
   "id": "3d989b16",
   "metadata": {},
   "outputs": [],
   "source": [
    "with open(files[0],'r') as file:\n",
    "    lines = file.readlines()\n",
    "    lines = lines[27:]\n",
    "    \n",
    "    lines =[\",\".join(line.split(',')[9:]) for line in lines]\n",
    "    "
   ]
  },
  {
   "cell_type": "code",
   "execution_count": 12,
   "id": "623bb271",
   "metadata": {},
   "outputs": [],
   "source": [
    "lines = [line.replace('\\\\N',\"\") for line in lines]"
   ]
  },
  {
   "cell_type": "code",
   "execution_count": 13,
   "id": "3141d814",
   "metadata": {},
   "outputs": [
    {
     "data": {
      "text/plain": [
       "\"A long time ago, a powerful demon foxappeared with nine tails.\\n With its powerful tails,\\n it could smash mountainsand create tidal waves.\\n A band of Ninjas rose todefend their village from attack.\\n We have to wait untilthe Fourth Hokage gets here!\\n We can't let it get any closerto our village!\\n One great Ninja was able toimprison the monster,\\n but died in the process.\\n This Ninja was known asâ€¦the Fourth Hokage.\\n Naruto!\\n\""
      ]
     },
     "execution_count": 13,
     "metadata": {},
     "output_type": "execute_result"
    }
   ],
   "source": [
    "\" \".join(lines[:10])"
   ]
  },
  {
   "cell_type": "code",
   "execution_count": 14,
   "id": "9927b742",
   "metadata": {},
   "outputs": [
    {
     "data": {
      "text/plain": [
       "1"
      ]
     },
     "execution_count": 14,
     "metadata": {},
     "output_type": "execute_result"
    }
   ],
   "source": [
    "int(files[0].split(\"-\")[-1].strip().split(\".\")[0])"
   ]
  },
  {
   "cell_type": "code",
   "execution_count": 15,
   "id": "c40f6d96",
   "metadata": {},
   "outputs": [],
   "source": [
    "def load_subtitle(dataset_path):\n",
    "    subt_file_path = glob(dataset_path +\"/*.ass\")\n",
    "    scripts =[]\n",
    "    ep_nums = []\n",
    "\n",
    "    for path in subt_file_path:\n",
    "        with open(path,'r', encoding='utf-8') as file:\n",
    "            lines = file.readlines()\n",
    "            lines = lines[27:]\n",
    "            \n",
    "            lines =[\",\".join(line.split(',')[9:]) for line in lines]\n",
    "        lines = [line.replace('\\\\N',\"\") for line in lines]\n",
    "        script= \" \".join(lines)\n",
    "        scripts.append(script)\n",
    "\n",
    "        ep_no = int(path.split(\"-\")[-1].strip().split(\".\")[0])\n",
    "        ep_nums.append(ep_no)\n",
    "            \n",
    "    df = pd.DataFrame.from_dict({\"episodes\":ep_nums,\"script\":scripts})\n",
    "    return df"
   ]
  },
  {
   "cell_type": "code",
   "execution_count": 16,
   "id": "e192518c",
   "metadata": {},
   "outputs": [],
   "source": [
    "dataset_path = '../Data/Subtitles'\n",
    "df = load_subtitle(dataset_path)"
   ]
  },
  {
   "cell_type": "code",
   "execution_count": 17,
   "id": "b39d2e62",
   "metadata": {},
   "outputs": [
    {
     "data": {
      "text/html": [
       "<div>\n",
       "<style scoped>\n",
       "    .dataframe tbody tr th:only-of-type {\n",
       "        vertical-align: middle;\n",
       "    }\n",
       "\n",
       "    .dataframe tbody tr th {\n",
       "        vertical-align: top;\n",
       "    }\n",
       "\n",
       "    .dataframe thead th {\n",
       "        text-align: right;\n",
       "    }\n",
       "</style>\n",
       "<table border=\"1\" class=\"dataframe\">\n",
       "  <thead>\n",
       "    <tr style=\"text-align: right;\">\n",
       "      <th></th>\n",
       "      <th>episodes</th>\n",
       "      <th>script</th>\n",
       "    </tr>\n",
       "  </thead>\n",
       "  <tbody>\n",
       "    <tr>\n",
       "      <th>0</th>\n",
       "      <td>1</td>\n",
       "      <td>A long time ago, a powerful demon foxappeared ...</td>\n",
       "    </tr>\n",
       "    <tr>\n",
       "      <th>1</th>\n",
       "      <td>2</td>\n",
       "      <td>C'mon!\\n Running like a fugitive,\\n Being chas...</td>\n",
       "    </tr>\n",
       "    <tr>\n",
       "      <th>2</th>\n",
       "      <td>3</td>\n",
       "      <td>C'mon!\\n Running like a fugitive,\\n Being chas...</td>\n",
       "    </tr>\n",
       "    <tr>\n",
       "      <th>3</th>\n",
       "      <td>4</td>\n",
       "      <td>C'mon!\\n Running like a fugitive,\\n Being chas...</td>\n",
       "    </tr>\n",
       "    <tr>\n",
       "      <th>4</th>\n",
       "      <td>5</td>\n",
       "      <td>C'mon!\\n Running like a fugitive,\\n Being chas...</td>\n",
       "    </tr>\n",
       "    <tr>\n",
       "      <th>5</th>\n",
       "      <td>6</td>\n",
       "      <td>C'mon!\\n Running like a fugitive,\\n Being chas...</td>\n",
       "    </tr>\n",
       "    <tr>\n",
       "      <th>6</th>\n",
       "      <td>7</td>\n",
       "      <td>C'mon!\\n Running like a fugitive,\\n Being chas...</td>\n",
       "    </tr>\n",
       "    <tr>\n",
       "      <th>7</th>\n",
       "      <td>8</td>\n",
       "      <td>C'mon!\\n Running like a fugitive,\\n Being chas...</td>\n",
       "    </tr>\n",
       "  </tbody>\n",
       "</table>\n",
       "</div>"
      ],
      "text/plain": [
       "   episodes                                             script\n",
       "0         1  A long time ago, a powerful demon foxappeared ...\n",
       "1         2  C'mon!\\n Running like a fugitive,\\n Being chas...\n",
       "2         3  C'mon!\\n Running like a fugitive,\\n Being chas...\n",
       "3         4  C'mon!\\n Running like a fugitive,\\n Being chas...\n",
       "4         5  C'mon!\\n Running like a fugitive,\\n Being chas...\n",
       "5         6  C'mon!\\n Running like a fugitive,\\n Being chas...\n",
       "6         7  C'mon!\\n Running like a fugitive,\\n Being chas...\n",
       "7         8  C'mon!\\n Running like a fugitive,\\n Being chas..."
      ]
     },
     "execution_count": 17,
     "metadata": {},
     "output_type": "execute_result"
    }
   ],
   "source": [
    "df.head(8)"
   ]
  },
  {
   "cell_type": "code",
   "execution_count": 18,
   "id": "b279ddc4",
   "metadata": {},
   "outputs": [
    {
     "data": {
      "text/plain": [
       "'A long time ago, a powerful demon foxappeared with nine tails.\\n With its powerful tails,\\n it could smash mountainsand create tidal waves.\\n A band of Ninjas rose todefend their village from attack.\\n We have to wait untilthe Fourth Hokage gets here!\\n We can\\'t let it get any closerto our village!\\n One great Ninja was able toimprison the monster,\\n but died in the process.\\n This Ninja was known as…the Fourth Hokage.\\n Naruto!\\n Why did you do such a thing?!\\n You\\'re really gonna get it this time!\\n I don\\'t care!\\n You know your problem?\\n You can\\'t do the things I do!\\n Only I can do this!\\n I\\'m better than all of you!Believe it!\\n There\\'s a problem, sir!\\n Lord Hokage!\\n What is it?\\n Did that Naruto do something again?\\n Yes. He climbed ontothe Mountainside Images…\\n And he vandalized andgraffitied all over them!\\n Wait!\\n Ha ha…\\n Why should I?\\n Hey, Naruto!\\n How did you suddenly get here,lruka Sensei?\\n The question is what are you doing herewhen you should be in class now?\\n Now listen, Naruto.\\n You failed the last graduation testand the one before that.\\n This is no timeto be goofing off, you fool!\\n We will have a re-test onthe Transformation Jutsu!\\n Even those who already passedwill take it!\\n Whaaaat?!\\n Sakura Haruno. Here I go…\\n Transform!\\n OK!\\n I did it!\\n Cha!\\n Did you see that, Sasuke?\\n Next, Sasuke Uchiha.\\n Yes.\\n O-OK.\\n Next, Naruto Uzumaki.\\n This is a real pain.\\n And it\\'s all your fault.\\n Like I care!!\\n OK…\\n Good luck, Naruto…\\n Transform!\\n How was it?\\n I call it the \"Sexy Jutsu\"!\\n You fool!Stop making idiotic spells!\\n Darn…\\n Darn…\\n I won\\'t let you go homeunless you clean that all up.\\n I don\\'t care…\\n There\\'s nobody home anyway.\\n Naruto...\\n What is it this time?\\n What I meant was…\\n If you clean up all that mess,I\\'ll buy you ramen tonight.\\n Huh?!\\n Yes!I-I will finish it no time!\\n Enter: Naruto Uzumaki!\\n Naruto.\\n Why did you vandalize those faces?\\n Don\\'t you know whothe Hokage leaders are?\\n Of course, I do!\\n I know they earned the titleLord Hokage\\n because they were the best Ninjaof their time, right?\\n Especially the Fourth Hokagewas a hero\\n who saved the village fromthe nine-tail demon fox.\\n Then why did you do that?\\n Because I\\'ll become a Hokage myself.\\n And I\\'ll be the greatest Hokageof all time!\\n So that everyone will finallylearn to accept me!\\n By the way, Sensei,I have a favor to ask.\\n You want another bowl?\\n Mmmm…No…\\n Can I borrow that Leaf headbandfor a while?\\n This?\\n No no!\\n This is worn only by those whohave graduated from Ninja Academy.\\n Tomorrow, you will…\\n You\\'re so mean!\\n So that\\'s why you took offyour goggles…\\n Humph...One more bowl please!\\n We are now about to beginthe graduation test.\\n When your name is called,proceed to the next classroom.\\n The test is on the Clone Jutsu.\\n Oh no…\\n Of all the…! That is my weakest Jutsu!\\n But still…I will do it no matter what!\\n Clone Jutsu!\\n Disqualified!\\n Iruka Sensei.\\n His physical coordinationand stamina are excellent.\\n And he managed to come upwith something.\\n Isn\\'t that enoughfor him to pass?\\n Mizuki Sensei...All the others created three or more clones.\\n Naruto created just one.\\n And it\\'s practically useless.I can\\'t give him a passing mark.\\n I \\'m a Ninja now!\\n You did well. That\\'s my son.\\n Congratulations for your graduation.\\n I\\'ll cook something good tonight!\\n Look at that one.\\n It\\'s that boy.I hear he\\'s the only one who failed.\\n Serves him right.\\n Imagine what would happenif he became a Ninja.\\n Isn\\'t that the boywho is actually…\\n Hey! We\\'re not supposed totalk about that.\\n Iruka.We need to talk later.\\n Yes, sir.\\n Iruka Sensei isn\\'t tryingto be mean to you.\\n Then why only me?\\n He wants you to become strongfrom the bottom of his heart.\\n You both don\\'t have parents.\\n But I really wanted to graduate.\\n Heh... I guess I have no choice…\\n I\\'ll let you in on a big secret.\\n Secret?\\n Iruka.\\n What is it, Lord Hokage?\\n I know how you feel. But…\\n Naruto also grew up without knowingthe love of his parents…like you.\\n Let me go!\\n My mom and dad arestill out there fighting!\\n Wake up, Iruka Sensei!\\n What\\'s the matter?\\n Come to Lord Hokage\\'s immediately!\\n I heard that Naruto…stole the Scroll of Sealing.\\n The Scroll of Sealing?!\\n Let\\'s see…\\n The first Jutsu is…Multi-Shadow Clone Jutsu?\\n What?! Already a Jutsu I\\'m no good at?\\n Lord Hokage!We can\\'t forgive him!\\n This is not just a prank!\\n The Scroll is a dangerous itemthat the First Hokage sealed!\\n Depending on its use…\\n It will be a major disaster ifit is taken out of the village!\\n Yes. Bring Naruto here at once!\\n Yes, sir!\\n Where did you go…Naruto?\\n I will tell everyone in the villageabout this and eliminate Naruto…\\n Then the Scroll of Sealingwill be mine!\\n Hey you, Naruto!\\n You found me..\\n And I\\'ve only learned one Jutsu.\\n He\\'s been practicing the Jutsu…\\n until he\\'s becomethis exhausted and dirty…?\\n Listen, listen!I\\'m gonna show you this amazing Jutsu!\\n You\\'re gonna let me graduateif I can do it!\\n Isn\\'t it true that I can graduate ifI can do one of the Jutsu written here?\\n Who told you that?\\n Mizuki Sensei. He told meabout this scroll, and this place…\\n Mizuki did?!\\n I\\'m impressed you found this place.\\n I see now…how it is.\\n Naruto, give me that scroll.\\n Wait, wait…What\\'s going on here?\\n Naruto! Never give him that scroll!\\n It is a dangerous object that containsforbidden Ninja Jutsu. It was sealed.\\n Mizuki used you in order toget it for himself!\\n W-Wha--?\\n Naruto, Iruka is only afraid ofyou holding that scroll!\\n Huh?\\n What are you saying, Mizuki!Don\\'t let him fool you, Naruto!\\n I will tell you the truth.\\n Idiot! Don\\'t do that!\\n After an incident 12 years ago,a rule was created.\\n A rule?\\n That is, Naruto, a rule everybodybut you knows.\\n Except me?! \\t\\t\\t\\t\\tWhat is it?\\n Stop it, Mizuki!\\n The rule forbids anyone from revealingthat you are actually the Demon Fox Spirit!\\n Huh?\\n You are actually the Demon,Nine-Tailed Fox Spirit,\\n who killed Iruka\\'s parents anddestroyed our village!\\n Stop it!\\n Everyone has beendeceiving you ever since.\\n Didn\\'t you find it strange?\\n Why everyone hated you so much?\\n No! No! No! No! No!\\n Naruto…\\n Nobody accepts you.That\\'s why Iruka hates you so much!\\n Iruka... Naruto grew upwithout the love of parents.\\n Everyone avoids him likethe plague after what happened.\\n That\\'s why he keeps misbehaving.\\n It\\'s the only way for him to getany attention or acknowledgement.\\n He pretends to be tough,but inside he is really hurting.\\n Die, Naruto!\\n Naruto! \\t\\t\\t\\t\\tGet down!\\n Why…?\\n Because you and I are the same.\\n After my parents died,\\n nobody paid attention to meor gave me any support.\\n I wasn\\'t a good student in school.\\n I was the class clown…because I wanted people to notice me.\\n I couldn\\'t get noticed through excellence,so I kept doing stupid things.\\n It was so hard.\\n Isn\\'t that right, Naruto?\\n You felt so lonely…right?And you suffered inside, right?\\n I\\'m sorry, Naruto….\\n If I had been more responsible,maybe you wouldn\\'t have suffered so much.\\n Don\\'t make me laugh!\\n Iruka has always hated you,ever since you killed his parents!\\n He\\'s just saying all thatto get the Scroll of Sealing back!\\n Naruto!\\n Narutoooooo!\\n He is not the type of kidwho will change his mind.\\n He will take revenge againstour village using that scroll!\\n Didn\\'t you see his eyes?Those are the eyes of a Demon Fox.\\n No…Naruto…isn\\'t…like that at all!\\n All I want is to kill Narutoand get the scroll.\\n I\\'ll take care of you later!\\n I-I won\\'t let you…\\n Well, well.\\n Mizuki has a big mouth!\\n Naruto feels worse than he\\'s ever felt.\\n He might unleashthe power locked up inside him.\\n The Scroll of Sealing is now with him.\\n There\\'s a slight chancehe might actually release\\n the Nine-Tailed Fox Spiritsealed inside him!\\n If that happens…\\n I\\'ve found him!\\n Naruto!\\n Everything that Mizuki saidwas a lie!\\n Give me that scroll, quick!Mizuki is after the scroll!\\n It can\\'t be…\\n Why is it, Naruto?\\n How…\\n did you know I wasn\\'t Iruka…?\\n Because I\\'m Iruka.\\n I see.\\n What\\'s in it for you to protectthe one who killed your family?\\n I\\'m not gonna let a stupid idiotlike you get that scroll!\\n You\\'re the idiot.Naruto is the same as me.\\n Same?\\n Anyone can do whateverhe wants once he has the scroll.\\n There is no way that that monster…\\n that Fox Spirit, won\\'t take advantageof the power of that scroll!\\n You\\'re right…\\n I guess it was true all along!\\n See, Iruka Sensei never reallycared for me at all!\\n ...if he was the Demon Fox Spirit.\\n But Naruto is different!\\n I know that he is an exceptional student.\\n He works very hard,\\n and he\\'s single-mindedand clumsy at the same time.\\n No one accepts him, but he knowsthe meaning of human suffering.\\n He is not the Demon Fox Spirit.\\n He\\'s Naruto Uzumaki ofthe Village Hidden in the Leaves!\\n You are so gullible. \\t\\t\\t\\t\\tlruka!\\n I was gonna take you down later,but I have changed my mind.\\n Die!\\n I guess this is the end for me…\\n Naruto?!\\n You surprised me there, freak.\\n If you ever lay a hand on Iruka Sensei,I\\'ll kill you!\\n Shut up! I can take care of a kidlike you with a single blow!\\n Why don\\'t you try then?I\\'ll strike you back a thousand-fold!\\n Let\\'s see you try!Show me what you can do, Demon Fox!\\n Shadow Clone Jutsu!\\n Naruto! You\\'ve…\\n Those aren\\'t just images but actual clones!That\\'s an advanced Ninjutsu!\\n What\\'s this…?\\n What\\'s the matter? \\t\\t\\t\\t\\tC\\'mon!\\n Weren\\'t you gonna get mewith one blow? Here!\\n In that case…I\\'ll come to you.\\n I kinda got carried away.lruka Sensei, are you okay?\\n Yeah.\\n He\\'s really something.\\n Maybe it is true.\\n Maybe he will surpass allthe Hokage leaders…\\n Naruto, come over here.I\\'d like to give you something.\\n Has anyone found Naruto yet?\\n No.\\n Darn, this is going to be bad…\\n There\\'s no need to worry anymore.\\n Lord Hokage!\\n He\\'ll be back soon.\\n Sensei, how much longer?\\n OK, you may open your eyes now.\\n Congratulations…on your graduation.\\n In celebration, we\\'ll have ramen tonight!\\n Iruka Sensei!\\n That hurts!\\n Naruto…\\n I was going to lecture to you...\\n that the road gets more difficultnow that you\\'re a Ninja.\\n But I guess I\\'ll just wait to tell youthat until we get to the ramen stand…\\n W-What do you want, you little shrimp?Quit following me!\\n You\\'re smaller than me and\\n you\\'re saying that you\\'re gonnabecome the Fifth Hokage?\\n I don\\'t care if you are the 3rd Hokage\\'sgrandson or not.\\n It\\'s not that easy to be a Hokage!\\n If you want it that bad,you\\'re gonna have to beat me first!\\n Next episode: \"My Name Is Konohamaru!\"\\n Watch my outstanding performance!\\n'"
      ]
     },
     "execution_count": 18,
     "metadata": {},
     "output_type": "execute_result"
    }
   ],
   "source": [
    "script = df.iloc[0]['script']\n",
    "script"
   ]
  },
  {
   "cell_type": "code",
   "execution_count": 19,
   "id": "771a0fd9",
   "metadata": {},
   "outputs": [
    {
     "data": {
      "text/plain": [
       "['A long time ago, a powerful demon foxappeared with nine tails.',\n",
       " 'With its powerful tails,\\n it could smash mountainsand create tidal waves.',\n",
       " 'A band of Ninjas rose todefend their village from attack.']"
      ]
     },
     "execution_count": 19,
     "metadata": {},
     "output_type": "execute_result"
    }
   ],
   "source": [
    "script_sentences = sent_tokenize(script)\n",
    "script_sentences[:3]"
   ]
  },
  {
   "cell_type": "code",
   "execution_count": 20,
   "id": "06eeae2b",
   "metadata": {},
   "outputs": [],
   "source": [
    "sentence_batch_size = 20\n",
    "script_batches = []\n",
    "for index in range(0,len(script_sentences),sentence_batch_size):\n",
    "    sent = \" \".join(script_sentences[index:sentence_batch_size + index])\n",
    "\n",
    "    script_batches.append(sent)"
   ]
  },
  {
   "cell_type": "code",
   "execution_count": 21,
   "id": "07a77eed",
   "metadata": {},
   "outputs": [
    {
     "data": {
      "text/plain": [
       "[\"A long time ago, a powerful demon foxappeared with nine tails. With its powerful tails,\\n it could smash mountainsand create tidal waves. A band of Ninjas rose todefend their village from attack. We have to wait untilthe Fourth Hokage gets here! We can't let it get any closerto our village! One great Ninja was able toimprison the monster,\\n but died in the process. This Ninja was known as…the Fourth Hokage. Naruto! Why did you do such a thing?! You're really gonna get it this time! I don't care! You know your problem? You can't do the things I do! Only I can do this! I'm better than all of you!Believe it! There's a problem, sir! Lord Hokage! What is it? Did that Naruto do something again? Yes.\",\n",
       " 'He climbed ontothe Mountainside Images…\\n And he vandalized andgraffitied all over them! Wait! Ha ha…\\n Why should I? Hey, Naruto! How did you suddenly get here,lruka Sensei? The question is what are you doing herewhen you should be in class now? Now listen, Naruto. You failed the last graduation testand the one before that. This is no timeto be goofing off, you fool! We will have a re-test onthe Transformation Jutsu! Even those who already passedwill take it! Whaaaat?! Sakura Haruno. Here I go…\\n Transform! OK! I did it! Cha! Did you see that, Sasuke? Next, Sasuke Uchiha. Yes.']"
      ]
     },
     "execution_count": 21,
     "metadata": {},
     "output_type": "execute_result"
    }
   ],
   "source": [
    "script_batches[:2]"
   ]
  },
  {
   "cell_type": "code",
   "execution_count": 22,
   "id": "42564558",
   "metadata": {},
   "outputs": [],
   "source": [
    "theme_output = theme_classifier(\n",
    "    script_batches[:2],\n",
    "    theme_list,\n",
    "    multi_label =  True\n",
    ")"
   ]
  },
  {
   "cell_type": "code",
   "execution_count": 23,
   "id": "ac0eab08",
   "metadata": {},
   "outputs": [
    {
     "data": {
      "text/plain": [
       "[{'sequence': \"A long time ago, a powerful demon foxappeared with nine tails. With its powerful tails,\\n it could smash mountainsand create tidal waves. A band of Ninjas rose todefend their village from attack. We have to wait untilthe Fourth Hokage gets here! We can't let it get any closerto our village! One great Ninja was able toimprison the monster,\\n but died in the process. This Ninja was known as…the Fourth Hokage. Naruto! Why did you do such a thing?! You're really gonna get it this time! I don't care! You know your problem? You can't do the things I do! Only I can do this! I'm better than all of you!Believe it! There's a problem, sir! Lord Hokage! What is it? Did that Naruto do something again? Yes.\",\n",
       "  'labels': ['dialogue',\n",
       "   'betrayal',\n",
       "   'battle',\n",
       "   'self development',\n",
       "   'sacrifice',\n",
       "   'hope',\n",
       "   'friendship',\n",
       "   'love'],\n",
       "  'scores': [0.9732495546340942,\n",
       "   0.9437205791473389,\n",
       "   0.8486975431442261,\n",
       "   0.7226595282554626,\n",
       "   0.69957435131073,\n",
       "   0.15611547231674194,\n",
       "   0.0511309914290905,\n",
       "   0.04421435296535492]},\n",
       " {'sequence': 'He climbed ontothe Mountainside Images…\\n And he vandalized andgraffitied all over them! Wait! Ha ha…\\n Why should I? Hey, Naruto! How did you suddenly get here,lruka Sensei? The question is what are you doing herewhen you should be in class now? Now listen, Naruto. You failed the last graduation testand the one before that. This is no timeto be goofing off, you fool! We will have a re-test onthe Transformation Jutsu! Even those who already passedwill take it! Whaaaat?! Sakura Haruno. Here I go…\\n Transform! OK! I did it! Cha! Did you see that, Sasuke? Next, Sasuke Uchiha. Yes.',\n",
       "  'labels': ['dialogue',\n",
       "   'self development',\n",
       "   'battle',\n",
       "   'sacrifice',\n",
       "   'betrayal',\n",
       "   'hope',\n",
       "   'friendship',\n",
       "   'love'],\n",
       "  'scores': [0.9010846018791199,\n",
       "   0.7813712954521179,\n",
       "   0.5074158310890198,\n",
       "   0.4107038676738739,\n",
       "   0.31804245710372925,\n",
       "   0.12174125015735626,\n",
       "   0.07042007893323898,\n",
       "   0.014753744937479496]}]"
      ]
     },
     "execution_count": 23,
     "metadata": {},
     "output_type": "execute_result"
    }
   ],
   "source": [
    "theme_output"
   ]
  },
  {
   "cell_type": "code",
   "execution_count": 24,
   "id": "f8d2e93f",
   "metadata": {},
   "outputs": [],
   "source": [
    "themes ={}\n",
    "\n",
    "for output in theme_output:\n",
    "    for label,score in zip(output[\"labels\"],output[\"scores\"]):\n",
    "        if label not in themes:\n",
    "            themes[label] = []\n",
    "\n",
    "        themes[label].append(score)"
   ]
  },
  {
   "cell_type": "code",
   "execution_count": 25,
   "id": "9d02c54d",
   "metadata": {},
   "outputs": [],
   "source": [
    "themes = {key : np.mean(np.array(value)) for key,value in themes.items()}\n"
   ]
  },
  {
   "cell_type": "code",
   "execution_count": 26,
   "id": "7015bdf4",
   "metadata": {},
   "outputs": [
    {
     "data": {
      "text/plain": [
       "{'dialogue': 0.9371670782566071,\n",
       " 'betrayal': 0.6308815181255341,\n",
       " 'battle': 0.6780566871166229,\n",
       " 'self development': 0.7520154118537903,\n",
       " 'sacrifice': 0.5551391094923019,\n",
       " 'hope': 0.1389283612370491,\n",
       " 'friendship': 0.06077553518116474,\n",
       " 'love': 0.029484048951417208}"
      ]
     },
     "execution_count": 26,
     "metadata": {},
     "output_type": "execute_result"
    }
   ],
   "source": [
    "themes"
   ]
  },
  {
   "cell_type": "code",
   "execution_count": 27,
   "id": "0becd85b",
   "metadata": {},
   "outputs": [],
   "source": [
    "def get_themes_inference(script):\n",
    "    script_sentences = sent_tokenize(script)\n",
    "    sentence_batch_size = 20\n",
    "    script_batches = []\n",
    "    for index in range(0,len(script_sentences),sentence_batch_size):\n",
    "        sent = \" \".join(script_sentences[index:sentence_batch_size + index])\n",
    "\n",
    "        script_batches.append(sent)\n",
    "    theme_output = theme_classifier(\n",
    "    script_batches[:2],\n",
    "    theme_list,\n",
    "    multi_label =  True\n",
    "    )\n",
    "\n",
    "    themes ={}\n",
    "\n",
    "    for output in theme_output:\n",
    "        for label,score in zip(output[\"labels\"],output[\"scores\"]):\n",
    "            if label not in themes:\n",
    "                themes[label] = []\n",
    "\n",
    "            themes[label].append(score)\n",
    "    themes = {key : np.mean(np.array(value)) for key,value in themes.items()}\n",
    "\n",
    "    return themes\n",
    "        "
   ]
  },
  {
   "cell_type": "code",
   "execution_count": 28,
   "id": "4448f98b",
   "metadata": {},
   "outputs": [],
   "source": [
    "df = df.head(2)"
   ]
  },
  {
   "cell_type": "code",
   "execution_count": 29,
   "id": "ca66d214",
   "metadata": {},
   "outputs": [],
   "source": [
    "output_themes = df['script'].apply(get_themes_inference)"
   ]
  },
  {
   "cell_type": "code",
   "execution_count": 30,
   "id": "1238d5db",
   "metadata": {},
   "outputs": [],
   "source": [
    "theme_df = pd.DataFrame(output_themes.tolist())"
   ]
  },
  {
   "cell_type": "code",
   "execution_count": 31,
   "id": "3f83b22e",
   "metadata": {},
   "outputs": [
    {
     "data": {
      "text/html": [
       "<div>\n",
       "<style scoped>\n",
       "    .dataframe tbody tr th:only-of-type {\n",
       "        vertical-align: middle;\n",
       "    }\n",
       "\n",
       "    .dataframe tbody tr th {\n",
       "        vertical-align: top;\n",
       "    }\n",
       "\n",
       "    .dataframe thead th {\n",
       "        text-align: right;\n",
       "    }\n",
       "</style>\n",
       "<table border=\"1\" class=\"dataframe\">\n",
       "  <thead>\n",
       "    <tr style=\"text-align: right;\">\n",
       "      <th></th>\n",
       "      <th>dialogue</th>\n",
       "      <th>betrayal</th>\n",
       "      <th>battle</th>\n",
       "      <th>self development</th>\n",
       "      <th>sacrifice</th>\n",
       "      <th>hope</th>\n",
       "      <th>friendship</th>\n",
       "      <th>love</th>\n",
       "    </tr>\n",
       "  </thead>\n",
       "  <tbody>\n",
       "    <tr>\n",
       "      <th>0</th>\n",
       "      <td>0.937167</td>\n",
       "      <td>0.630882</td>\n",
       "      <td>0.678057</td>\n",
       "      <td>0.752015</td>\n",
       "      <td>0.555139</td>\n",
       "      <td>0.138928</td>\n",
       "      <td>0.060776</td>\n",
       "      <td>0.029484</td>\n",
       "    </tr>\n",
       "    <tr>\n",
       "      <th>1</th>\n",
       "      <td>0.974036</td>\n",
       "      <td>0.542820</td>\n",
       "      <td>0.679987</td>\n",
       "      <td>0.435066</td>\n",
       "      <td>0.666392</td>\n",
       "      <td>0.147580</td>\n",
       "      <td>0.055368</td>\n",
       "      <td>0.134843</td>\n",
       "    </tr>\n",
       "  </tbody>\n",
       "</table>\n",
       "</div>"
      ],
      "text/plain": [
       "   dialogue  betrayal    battle  self development  sacrifice      hope  \\\n",
       "0  0.937167  0.630882  0.678057          0.752015   0.555139  0.138928   \n",
       "1  0.974036  0.542820  0.679987          0.435066   0.666392  0.147580   \n",
       "\n",
       "   friendship      love  \n",
       "0    0.060776  0.029484  \n",
       "1    0.055368  0.134843  "
      ]
     },
     "execution_count": 31,
     "metadata": {},
     "output_type": "execute_result"
    }
   ],
   "source": [
    "theme_df"
   ]
  },
  {
   "cell_type": "code",
   "execution_count": 32,
   "id": "d94e05fb",
   "metadata": {},
   "outputs": [],
   "source": [
    "df[theme_df.columns] = theme_df"
   ]
  },
  {
   "cell_type": "code",
   "execution_count": 33,
   "id": "3283cbaf",
   "metadata": {},
   "outputs": [
    {
     "data": {
      "text/html": [
       "<div>\n",
       "<style scoped>\n",
       "    .dataframe tbody tr th:only-of-type {\n",
       "        vertical-align: middle;\n",
       "    }\n",
       "\n",
       "    .dataframe tbody tr th {\n",
       "        vertical-align: top;\n",
       "    }\n",
       "\n",
       "    .dataframe thead th {\n",
       "        text-align: right;\n",
       "    }\n",
       "</style>\n",
       "<table border=\"1\" class=\"dataframe\">\n",
       "  <thead>\n",
       "    <tr style=\"text-align: right;\">\n",
       "      <th></th>\n",
       "      <th>episodes</th>\n",
       "      <th>script</th>\n",
       "      <th>dialogue</th>\n",
       "      <th>betrayal</th>\n",
       "      <th>battle</th>\n",
       "      <th>self development</th>\n",
       "      <th>sacrifice</th>\n",
       "      <th>hope</th>\n",
       "      <th>friendship</th>\n",
       "      <th>love</th>\n",
       "    </tr>\n",
       "  </thead>\n",
       "  <tbody>\n",
       "    <tr>\n",
       "      <th>0</th>\n",
       "      <td>1</td>\n",
       "      <td>A long time ago, a powerful demon foxappeared ...</td>\n",
       "      <td>0.937167</td>\n",
       "      <td>0.630882</td>\n",
       "      <td>0.678057</td>\n",
       "      <td>0.752015</td>\n",
       "      <td>0.555139</td>\n",
       "      <td>0.138928</td>\n",
       "      <td>0.060776</td>\n",
       "      <td>0.029484</td>\n",
       "    </tr>\n",
       "    <tr>\n",
       "      <th>1</th>\n",
       "      <td>2</td>\n",
       "      <td>C'mon!\\n Running like a fugitive,\\n Being chas...</td>\n",
       "      <td>0.974036</td>\n",
       "      <td>0.542820</td>\n",
       "      <td>0.679987</td>\n",
       "      <td>0.435066</td>\n",
       "      <td>0.666392</td>\n",
       "      <td>0.147580</td>\n",
       "      <td>0.055368</td>\n",
       "      <td>0.134843</td>\n",
       "    </tr>\n",
       "  </tbody>\n",
       "</table>\n",
       "</div>"
      ],
      "text/plain": [
       "   episodes                                             script  dialogue  \\\n",
       "0         1  A long time ago, a powerful demon foxappeared ...  0.937167   \n",
       "1         2  C'mon!\\n Running like a fugitive,\\n Being chas...  0.974036   \n",
       "\n",
       "   betrayal    battle  self development  sacrifice      hope  friendship  \\\n",
       "0  0.630882  0.678057          0.752015   0.555139  0.138928    0.060776   \n",
       "1  0.542820  0.679987          0.435066   0.666392  0.147580    0.055368   \n",
       "\n",
       "       love  \n",
       "0  0.029484  \n",
       "1  0.134843  "
      ]
     },
     "execution_count": 33,
     "metadata": {},
     "output_type": "execute_result"
    }
   ],
   "source": [
    "df"
   ]
  },
  {
   "cell_type": "code",
   "execution_count": 34,
   "id": "5f673064",
   "metadata": {},
   "outputs": [],
   "source": [
    "df = df.drop('dialogue',axis= 1)"
   ]
  },
  {
   "cell_type": "code",
   "execution_count": 40,
   "id": "99f5e455",
   "metadata": {},
   "outputs": [],
   "source": [
    "theme_output = df.drop(['episodes','script'],axis=1).sum().reset_index()\n",
    "theme_output.columns = ['Theme','Score']"
   ]
  },
  {
   "cell_type": "code",
   "execution_count": 41,
   "id": "a8e0a519",
   "metadata": {},
   "outputs": [
    {
     "data": {
      "text/html": [
       "<div>\n",
       "<style scoped>\n",
       "    .dataframe tbody tr th:only-of-type {\n",
       "        vertical-align: middle;\n",
       "    }\n",
       "\n",
       "    .dataframe tbody tr th {\n",
       "        vertical-align: top;\n",
       "    }\n",
       "\n",
       "    .dataframe thead th {\n",
       "        text-align: right;\n",
       "    }\n",
       "</style>\n",
       "<table border=\"1\" class=\"dataframe\">\n",
       "  <thead>\n",
       "    <tr style=\"text-align: right;\">\n",
       "      <th></th>\n",
       "      <th>Theme</th>\n",
       "      <th>Score</th>\n",
       "    </tr>\n",
       "  </thead>\n",
       "  <tbody>\n",
       "    <tr>\n",
       "      <th>0</th>\n",
       "      <td>betrayal</td>\n",
       "      <td>1.173702</td>\n",
       "    </tr>\n",
       "    <tr>\n",
       "      <th>1</th>\n",
       "      <td>battle</td>\n",
       "      <td>1.358044</td>\n",
       "    </tr>\n",
       "    <tr>\n",
       "      <th>2</th>\n",
       "      <td>self development</td>\n",
       "      <td>1.187082</td>\n",
       "    </tr>\n",
       "    <tr>\n",
       "      <th>3</th>\n",
       "      <td>sacrifice</td>\n",
       "      <td>1.221531</td>\n",
       "    </tr>\n",
       "    <tr>\n",
       "      <th>4</th>\n",
       "      <td>hope</td>\n",
       "      <td>0.286509</td>\n",
       "    </tr>\n",
       "    <tr>\n",
       "      <th>5</th>\n",
       "      <td>friendship</td>\n",
       "      <td>0.116144</td>\n",
       "    </tr>\n",
       "    <tr>\n",
       "      <th>6</th>\n",
       "      <td>love</td>\n",
       "      <td>0.164327</td>\n",
       "    </tr>\n",
       "  </tbody>\n",
       "</table>\n",
       "</div>"
      ],
      "text/plain": [
       "              Theme     Score\n",
       "0          betrayal  1.173702\n",
       "1            battle  1.358044\n",
       "2  self development  1.187082\n",
       "3         sacrifice  1.221531\n",
       "4              hope  0.286509\n",
       "5        friendship  0.116144\n",
       "6              love  0.164327"
      ]
     },
     "execution_count": 41,
     "metadata": {},
     "output_type": "execute_result"
    }
   ],
   "source": [
    "theme_output"
   ]
  },
  {
   "cell_type": "code",
   "execution_count": 43,
   "id": "db243814",
   "metadata": {},
   "outputs": [],
   "source": [
    "import matplotlib.pyplot as plt\n",
    "import seaborn as sns\n",
    "\n"
   ]
  },
  {
   "cell_type": "code",
   "execution_count": 45,
   "id": "c004dd77",
   "metadata": {},
   "outputs": [
    {
     "data": {
      "image/png": "[encoded data removed]",
      "text/plain": [
       "<Figure size 640x480 with 1 Axes>"
      ]
     },
     "metadata": {},
     "output_type": "display_data"
    }
   ],
   "source": [
    "sns.barplot(data= theme_output,x = \"Theme\",y = \"Score\")\n",
    "plt.xticks(rotation = 45)\n",
    "plt.show()"
   ]
  },
  {
   "cell_type": "code",
   "execution_count": null,
   "id": "519dac54",
   "metadata": {},
   "outputs": [],
   "source": []
  }
 ],
 "metadata": {
  "kernelspec": {
   "display_name": "Python 3",
   "language": "python",
   "name": "python3"
  },
  "language_info": {
   "codemirror_mode": {
    "name": "ipython",
    "version": 3
   },
   "file_extension": ".py",
   "mimetype": "text/x-python",
   "name": "python",
   "nbconvert_exporter": "python",
   "pygments_lexer": "ipython3",
   "version": "3.11.4"
  }
 },
 "nbformat": 4,
 "nbformat_minor": 5
}
